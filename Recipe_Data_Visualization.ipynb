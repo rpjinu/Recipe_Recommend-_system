{
  "nbformat": 4,
  "nbformat_minor": 0,
  "metadata": {
    "colab": {
      "provenance": []
    },
    "kernelspec": {
      "name": "python3",
      "display_name": "Python 3"
    },
    "language_info": {
      "name": "python"
    }
  },
  "cells": [
    {
      "cell_type": "code",
      "execution_count": 118,
      "metadata": {
        "id": "rxxR2rmRoAsf"
      },
      "outputs": [],
      "source": [
        "import pandas as pd\n",
        "import numpy as np\n",
        "import matplotlib.pyplot as plt\n",
        "import seaborn as sns\n",
        "#warnings\n",
        "import warnings\n",
        "warnings.filterwarnings('ignore')"
      ]
    },
    {
      "cell_type": "markdown",
      "source": [
        "#***Load Dataset:-***"
      ],
      "metadata": {
        "id": "gTrGIvJ9olGE"
      }
    },
    {
      "cell_type": "code",
      "source": [
        "#load dataset\n",
        "df=pd.read_csv(\"/content/recipe_data.csv\")"
      ],
      "metadata": {
        "id": "01E9eLjpozxq"
      },
      "execution_count": 106,
      "outputs": []
    },
    {
      "cell_type": "code",
      "source": [
        "df.head()"
      ],
      "metadata": {
        "id": "54KMsE892wzk",
        "colab": {
          "base_uri": "https://localhost:8080/",
          "height": 400
        },
        "outputId": "4fa815d1-bb36-4ffa-dc06-427539738e13"
      },
      "execution_count": 107,
      "outputs": [
        {
          "output_type": "execute_result",
          "data": {
            "text/plain": [
              "  Recipe_ID          Recipe_Name Cuisine_Type  \\\n",
              "0      R001           Beef Tacos      Mexican   \n",
              "1      R002  Spaghetti Bolognese      Italian   \n",
              "2      R003        Chicken Curry       Indian   \n",
              "3      R004        Chicken Curry       Indian   \n",
              "4      R005   Vegetable Stir Fry      Chinese   \n",
              "\n",
              "                                    Ingredients_List  \\\n",
              "0         Beef, Taco Shells, Lettuce, Cheese, Tomato   \n",
              "1  Spaghetti, Ground Beef, Tomato Sauce, Onion, G...   \n",
              "2  Chicken, Curry Powder, Coconut Milk, Onion, Ga...   \n",
              "3  Chicken, Curry Powder, Coconut Milk, Onion, Ga...   \n",
              "4   Broccoli, Carrot, Bell Pepper, Soy Sauce, Garlic   \n",
              "\n",
              "                                   Preparation_Steps  Cooking_Time_Minutes  \\\n",
              "0       Cook beef; Prepare toppings; Assemble tacos.                    55   \n",
              "1         Boil pasta; Cook beef; Add sauce; Combine.                    39   \n",
              "2  Cook chicken; Add spices; Pour coconut milk; S...                    36   \n",
              "3  Cook chicken; Add spices; Pour coconut milk; S...                    45   \n",
              "4          Chop veggies; Stir-fry; Add sauce; Serve.                    85   \n",
              "\n",
              "  Difficulty_Level User_ID User_Preferences  User_Rating User_Feedback  \\\n",
              "0           Medium    U539              NaN            3    Feedback 1   \n",
              "1             Easy    U538              NaN            2    Feedback 2   \n",
              "2           Medium    U324      Gluten-Free            4    Feedback 3   \n",
              "3           Medium    U548      Gluten-Free            2    Feedback 4   \n",
              "4             Easy    U990            Vegan            5    Feedback 5   \n",
              "\n",
              "  Date_Prepared  Season Occasion  Serving_Size  Calories_Per_Serving  \\\n",
              "0    2024-07-06  Spring    Party             4                   509   \n",
              "1    2024-02-24  Winter   Casual             4                   275   \n",
              "2    2024-02-14  Winter    Party             5                   293   \n",
              "3    2024-04-13  Spring   Casual             6                   580   \n",
              "4    2024-08-03    Fall   Dinner             4                   641   \n",
              "\n",
              "  Allergen_Information  Cost_Per_Serving  Popularity_Score  \\\n",
              "0                  NaN             14.12               402   \n",
              "1               Gluten             16.07               183   \n",
              "2                  NaN             11.97               137   \n",
              "3                  NaN             10.36               246   \n",
              "4                  Soy             12.68               386   \n",
              "\n",
              "  Seasonal_Availability  \n",
              "0                    No  \n",
              "1                    No  \n",
              "2                   Yes  \n",
              "3                   Yes  \n",
              "4                    No  "
            ],
            "text/html": [
              "\n",
              "  <div id=\"df-4a469008-2838-498c-986b-7b4dd6e1f895\" class=\"colab-df-container\">\n",
              "    <div>\n",
              "<style scoped>\n",
              "    .dataframe tbody tr th:only-of-type {\n",
              "        vertical-align: middle;\n",
              "    }\n",
              "\n",
              "    .dataframe tbody tr th {\n",
              "        vertical-align: top;\n",
              "    }\n",
              "\n",
              "    .dataframe thead th {\n",
              "        text-align: right;\n",
              "    }\n",
              "</style>\n",
              "<table border=\"1\" class=\"dataframe\">\n",
              "  <thead>\n",
              "    <tr style=\"text-align: right;\">\n",
              "      <th></th>\n",
              "      <th>Recipe_ID</th>\n",
              "      <th>Recipe_Name</th>\n",
              "      <th>Cuisine_Type</th>\n",
              "      <th>Ingredients_List</th>\n",
              "      <th>Preparation_Steps</th>\n",
              "      <th>Cooking_Time_Minutes</th>\n",
              "      <th>Difficulty_Level</th>\n",
              "      <th>User_ID</th>\n",
              "      <th>User_Preferences</th>\n",
              "      <th>User_Rating</th>\n",
              "      <th>User_Feedback</th>\n",
              "      <th>Date_Prepared</th>\n",
              "      <th>Season</th>\n",
              "      <th>Occasion</th>\n",
              "      <th>Serving_Size</th>\n",
              "      <th>Calories_Per_Serving</th>\n",
              "      <th>Allergen_Information</th>\n",
              "      <th>Cost_Per_Serving</th>\n",
              "      <th>Popularity_Score</th>\n",
              "      <th>Seasonal_Availability</th>\n",
              "    </tr>\n",
              "  </thead>\n",
              "  <tbody>\n",
              "    <tr>\n",
              "      <th>0</th>\n",
              "      <td>R001</td>\n",
              "      <td>Beef Tacos</td>\n",
              "      <td>Mexican</td>\n",
              "      <td>Beef, Taco Shells, Lettuce, Cheese, Tomato</td>\n",
              "      <td>Cook beef; Prepare toppings; Assemble tacos.</td>\n",
              "      <td>55</td>\n",
              "      <td>Medium</td>\n",
              "      <td>U539</td>\n",
              "      <td>NaN</td>\n",
              "      <td>3</td>\n",
              "      <td>Feedback 1</td>\n",
              "      <td>2024-07-06</td>\n",
              "      <td>Spring</td>\n",
              "      <td>Party</td>\n",
              "      <td>4</td>\n",
              "      <td>509</td>\n",
              "      <td>NaN</td>\n",
              "      <td>14.12</td>\n",
              "      <td>402</td>\n",
              "      <td>No</td>\n",
              "    </tr>\n",
              "    <tr>\n",
              "      <th>1</th>\n",
              "      <td>R002</td>\n",
              "      <td>Spaghetti Bolognese</td>\n",
              "      <td>Italian</td>\n",
              "      <td>Spaghetti, Ground Beef, Tomato Sauce, Onion, G...</td>\n",
              "      <td>Boil pasta; Cook beef; Add sauce; Combine.</td>\n",
              "      <td>39</td>\n",
              "      <td>Easy</td>\n",
              "      <td>U538</td>\n",
              "      <td>NaN</td>\n",
              "      <td>2</td>\n",
              "      <td>Feedback 2</td>\n",
              "      <td>2024-02-24</td>\n",
              "      <td>Winter</td>\n",
              "      <td>Casual</td>\n",
              "      <td>4</td>\n",
              "      <td>275</td>\n",
              "      <td>Gluten</td>\n",
              "      <td>16.07</td>\n",
              "      <td>183</td>\n",
              "      <td>No</td>\n",
              "    </tr>\n",
              "    <tr>\n",
              "      <th>2</th>\n",
              "      <td>R003</td>\n",
              "      <td>Chicken Curry</td>\n",
              "      <td>Indian</td>\n",
              "      <td>Chicken, Curry Powder, Coconut Milk, Onion, Ga...</td>\n",
              "      <td>Cook chicken; Add spices; Pour coconut milk; S...</td>\n",
              "      <td>36</td>\n",
              "      <td>Medium</td>\n",
              "      <td>U324</td>\n",
              "      <td>Gluten-Free</td>\n",
              "      <td>4</td>\n",
              "      <td>Feedback 3</td>\n",
              "      <td>2024-02-14</td>\n",
              "      <td>Winter</td>\n",
              "      <td>Party</td>\n",
              "      <td>5</td>\n",
              "      <td>293</td>\n",
              "      <td>NaN</td>\n",
              "      <td>11.97</td>\n",
              "      <td>137</td>\n",
              "      <td>Yes</td>\n",
              "    </tr>\n",
              "    <tr>\n",
              "      <th>3</th>\n",
              "      <td>R004</td>\n",
              "      <td>Chicken Curry</td>\n",
              "      <td>Indian</td>\n",
              "      <td>Chicken, Curry Powder, Coconut Milk, Onion, Ga...</td>\n",
              "      <td>Cook chicken; Add spices; Pour coconut milk; S...</td>\n",
              "      <td>45</td>\n",
              "      <td>Medium</td>\n",
              "      <td>U548</td>\n",
              "      <td>Gluten-Free</td>\n",
              "      <td>2</td>\n",
              "      <td>Feedback 4</td>\n",
              "      <td>2024-04-13</td>\n",
              "      <td>Spring</td>\n",
              "      <td>Casual</td>\n",
              "      <td>6</td>\n",
              "      <td>580</td>\n",
              "      <td>NaN</td>\n",
              "      <td>10.36</td>\n",
              "      <td>246</td>\n",
              "      <td>Yes</td>\n",
              "    </tr>\n",
              "    <tr>\n",
              "      <th>4</th>\n",
              "      <td>R005</td>\n",
              "      <td>Vegetable Stir Fry</td>\n",
              "      <td>Chinese</td>\n",
              "      <td>Broccoli, Carrot, Bell Pepper, Soy Sauce, Garlic</td>\n",
              "      <td>Chop veggies; Stir-fry; Add sauce; Serve.</td>\n",
              "      <td>85</td>\n",
              "      <td>Easy</td>\n",
              "      <td>U990</td>\n",
              "      <td>Vegan</td>\n",
              "      <td>5</td>\n",
              "      <td>Feedback 5</td>\n",
              "      <td>2024-08-03</td>\n",
              "      <td>Fall</td>\n",
              "      <td>Dinner</td>\n",
              "      <td>4</td>\n",
              "      <td>641</td>\n",
              "      <td>Soy</td>\n",
              "      <td>12.68</td>\n",
              "      <td>386</td>\n",
              "      <td>No</td>\n",
              "    </tr>\n",
              "  </tbody>\n",
              "</table>\n",
              "</div>\n",
              "    <div class=\"colab-df-buttons\">\n",
              "\n",
              "  <div class=\"colab-df-container\">\n",
              "    <button class=\"colab-df-convert\" onclick=\"convertToInteractive('df-4a469008-2838-498c-986b-7b4dd6e1f895')\"\n",
              "            title=\"Convert this dataframe to an interactive table.\"\n",
              "            style=\"display:none;\">\n",
              "\n",
              "  <svg xmlns=\"http://www.w3.org/2000/svg\" height=\"24px\" viewBox=\"0 -960 960 960\">\n",
              "    <path d=\"M120-120v-720h720v720H120Zm60-500h600v-160H180v160Zm220 220h160v-160H400v160Zm0 220h160v-160H400v160ZM180-400h160v-160H180v160Zm440 0h160v-160H620v160ZM180-180h160v-160H180v160Zm440 0h160v-160H620v160Z\"/>\n",
              "  </svg>\n",
              "    </button>\n",
              "\n",
              "  <style>\n",
              "    .colab-df-container {\n",
              "      display:flex;\n",
              "      gap: 12px;\n",
              "    }\n",
              "\n",
              "    .colab-df-convert {\n",
              "      background-color: #E8F0FE;\n",
              "      border: none;\n",
              "      border-radius: 50%;\n",
              "      cursor: pointer;\n",
              "      display: none;\n",
              "      fill: #1967D2;\n",
              "      height: 32px;\n",
              "      padding: 0 0 0 0;\n",
              "      width: 32px;\n",
              "    }\n",
              "\n",
              "    .colab-df-convert:hover {\n",
              "      background-color: #E2EBFA;\n",
              "      box-shadow: 0px 1px 2px rgba(60, 64, 67, 0.3), 0px 1px 3px 1px rgba(60, 64, 67, 0.15);\n",
              "      fill: #174EA6;\n",
              "    }\n",
              "\n",
              "    .colab-df-buttons div {\n",
              "      margin-bottom: 4px;\n",
              "    }\n",
              "\n",
              "    [theme=dark] .colab-df-convert {\n",
              "      background-color: #3B4455;\n",
              "      fill: #D2E3FC;\n",
              "    }\n",
              "\n",
              "    [theme=dark] .colab-df-convert:hover {\n",
              "      background-color: #434B5C;\n",
              "      box-shadow: 0px 1px 3px 1px rgba(0, 0, 0, 0.15);\n",
              "      filter: drop-shadow(0px 1px 2px rgba(0, 0, 0, 0.3));\n",
              "      fill: #FFFFFF;\n",
              "    }\n",
              "  </style>\n",
              "\n",
              "    <script>\n",
              "      const buttonEl =\n",
              "        document.querySelector('#df-4a469008-2838-498c-986b-7b4dd6e1f895 button.colab-df-convert');\n",
              "      buttonEl.style.display =\n",
              "        google.colab.kernel.accessAllowed ? 'block' : 'none';\n",
              "\n",
              "      async function convertToInteractive(key) {\n",
              "        const element = document.querySelector('#df-4a469008-2838-498c-986b-7b4dd6e1f895');\n",
              "        const dataTable =\n",
              "          await google.colab.kernel.invokeFunction('convertToInteractive',\n",
              "                                                    [key], {});\n",
              "        if (!dataTable) return;\n",
              "\n",
              "        const docLinkHtml = 'Like what you see? Visit the ' +\n",
              "          '<a target=\"_blank\" href=https://colab.research.google.com/notebooks/data_table.ipynb>data table notebook</a>'\n",
              "          + ' to learn more about interactive tables.';\n",
              "        element.innerHTML = '';\n",
              "        dataTable['output_type'] = 'display_data';\n",
              "        await google.colab.output.renderOutput(dataTable, element);\n",
              "        const docLink = document.createElement('div');\n",
              "        docLink.innerHTML = docLinkHtml;\n",
              "        element.appendChild(docLink);\n",
              "      }\n",
              "    </script>\n",
              "  </div>\n",
              "\n",
              "\n",
              "<div id=\"df-9a2c8a93-d796-4819-929e-e9e55e582def\">\n",
              "  <button class=\"colab-df-quickchart\" onclick=\"quickchart('df-9a2c8a93-d796-4819-929e-e9e55e582def')\"\n",
              "            title=\"Suggest charts\"\n",
              "            style=\"display:none;\">\n",
              "\n",
              "<svg xmlns=\"http://www.w3.org/2000/svg\" height=\"24px\"viewBox=\"0 0 24 24\"\n",
              "     width=\"24px\">\n",
              "    <g>\n",
              "        <path d=\"M19 3H5c-1.1 0-2 .9-2 2v14c0 1.1.9 2 2 2h14c1.1 0 2-.9 2-2V5c0-1.1-.9-2-2-2zM9 17H7v-7h2v7zm4 0h-2V7h2v10zm4 0h-2v-4h2v4z\"/>\n",
              "    </g>\n",
              "</svg>\n",
              "  </button>\n",
              "\n",
              "<style>\n",
              "  .colab-df-quickchart {\n",
              "      --bg-color: #E8F0FE;\n",
              "      --fill-color: #1967D2;\n",
              "      --hover-bg-color: #E2EBFA;\n",
              "      --hover-fill-color: #174EA6;\n",
              "      --disabled-fill-color: #AAA;\n",
              "      --disabled-bg-color: #DDD;\n",
              "  }\n",
              "\n",
              "  [theme=dark] .colab-df-quickchart {\n",
              "      --bg-color: #3B4455;\n",
              "      --fill-color: #D2E3FC;\n",
              "      --hover-bg-color: #434B5C;\n",
              "      --hover-fill-color: #FFFFFF;\n",
              "      --disabled-bg-color: #3B4455;\n",
              "      --disabled-fill-color: #666;\n",
              "  }\n",
              "\n",
              "  .colab-df-quickchart {\n",
              "    background-color: var(--bg-color);\n",
              "    border: none;\n",
              "    border-radius: 50%;\n",
              "    cursor: pointer;\n",
              "    display: none;\n",
              "    fill: var(--fill-color);\n",
              "    height: 32px;\n",
              "    padding: 0;\n",
              "    width: 32px;\n",
              "  }\n",
              "\n",
              "  .colab-df-quickchart:hover {\n",
              "    background-color: var(--hover-bg-color);\n",
              "    box-shadow: 0 1px 2px rgba(60, 64, 67, 0.3), 0 1px 3px 1px rgba(60, 64, 67, 0.15);\n",
              "    fill: var(--button-hover-fill-color);\n",
              "  }\n",
              "\n",
              "  .colab-df-quickchart-complete:disabled,\n",
              "  .colab-df-quickchart-complete:disabled:hover {\n",
              "    background-color: var(--disabled-bg-color);\n",
              "    fill: var(--disabled-fill-color);\n",
              "    box-shadow: none;\n",
              "  }\n",
              "\n",
              "  .colab-df-spinner {\n",
              "    border: 2px solid var(--fill-color);\n",
              "    border-color: transparent;\n",
              "    border-bottom-color: var(--fill-color);\n",
              "    animation:\n",
              "      spin 1s steps(1) infinite;\n",
              "  }\n",
              "\n",
              "  @keyframes spin {\n",
              "    0% {\n",
              "      border-color: transparent;\n",
              "      border-bottom-color: var(--fill-color);\n",
              "      border-left-color: var(--fill-color);\n",
              "    }\n",
              "    20% {\n",
              "      border-color: transparent;\n",
              "      border-left-color: var(--fill-color);\n",
              "      border-top-color: var(--fill-color);\n",
              "    }\n",
              "    30% {\n",
              "      border-color: transparent;\n",
              "      border-left-color: var(--fill-color);\n",
              "      border-top-color: var(--fill-color);\n",
              "      border-right-color: var(--fill-color);\n",
              "    }\n",
              "    40% {\n",
              "      border-color: transparent;\n",
              "      border-right-color: var(--fill-color);\n",
              "      border-top-color: var(--fill-color);\n",
              "    }\n",
              "    60% {\n",
              "      border-color: transparent;\n",
              "      border-right-color: var(--fill-color);\n",
              "    }\n",
              "    80% {\n",
              "      border-color: transparent;\n",
              "      border-right-color: var(--fill-color);\n",
              "      border-bottom-color: var(--fill-color);\n",
              "    }\n",
              "    90% {\n",
              "      border-color: transparent;\n",
              "      border-bottom-color: var(--fill-color);\n",
              "    }\n",
              "  }\n",
              "</style>\n",
              "\n",
              "  <script>\n",
              "    async function quickchart(key) {\n",
              "      const quickchartButtonEl =\n",
              "        document.querySelector('#' + key + ' button');\n",
              "      quickchartButtonEl.disabled = true;  // To prevent multiple clicks.\n",
              "      quickchartButtonEl.classList.add('colab-df-spinner');\n",
              "      try {\n",
              "        const charts = await google.colab.kernel.invokeFunction(\n",
              "            'suggestCharts', [key], {});\n",
              "      } catch (error) {\n",
              "        console.error('Error during call to suggestCharts:', error);\n",
              "      }\n",
              "      quickchartButtonEl.classList.remove('colab-df-spinner');\n",
              "      quickchartButtonEl.classList.add('colab-df-quickchart-complete');\n",
              "    }\n",
              "    (() => {\n",
              "      let quickchartButtonEl =\n",
              "        document.querySelector('#df-9a2c8a93-d796-4819-929e-e9e55e582def button');\n",
              "      quickchartButtonEl.style.display =\n",
              "        google.colab.kernel.accessAllowed ? 'block' : 'none';\n",
              "    })();\n",
              "  </script>\n",
              "</div>\n",
              "\n",
              "    </div>\n",
              "  </div>\n"
            ],
            "application/vnd.google.colaboratory.intrinsic+json": {
              "type": "dataframe",
              "variable_name": "df",
              "summary": "{\n  \"name\": \"df\",\n  \"rows\": 5000,\n  \"fields\": [\n    {\n      \"column\": \"Recipe_ID\",\n      \"properties\": {\n        \"dtype\": \"string\",\n        \"num_unique_values\": 5000,\n        \"samples\": [\n          \"R1502\",\n          \"R2587\",\n          \"R2654\"\n        ],\n        \"semantic_type\": \"\",\n        \"description\": \"\"\n      }\n    },\n    {\n      \"column\": \"Recipe_Name\",\n      \"properties\": {\n        \"dtype\": \"category\",\n        \"num_unique_values\": 5,\n        \"samples\": [\n          \"Spaghetti Bolognese\",\n          \"Margherita Pizza\",\n          \"Chicken Curry\"\n        ],\n        \"semantic_type\": \"\",\n        \"description\": \"\"\n      }\n    },\n    {\n      \"column\": \"Cuisine_Type\",\n      \"properties\": {\n        \"dtype\": \"category\",\n        \"num_unique_values\": 4,\n        \"samples\": [\n          \"Italian\",\n          \"Chinese\",\n          \"Mexican\"\n        ],\n        \"semantic_type\": \"\",\n        \"description\": \"\"\n      }\n    },\n    {\n      \"column\": \"Ingredients_List\",\n      \"properties\": {\n        \"dtype\": \"category\",\n        \"num_unique_values\": 5,\n        \"samples\": [\n          \"Spaghetti, Ground Beef, Tomato Sauce, Onion, Garlic\",\n          \"Pizza Dough, Tomato Sauce, Mozzarella, Basil, Olive Oil\",\n          \"Chicken, Curry Powder, Coconut Milk, Onion, Garlic\"\n        ],\n        \"semantic_type\": \"\",\n        \"description\": \"\"\n      }\n    },\n    {\n      \"column\": \"Preparation_Steps\",\n      \"properties\": {\n        \"dtype\": \"category\",\n        \"num_unique_values\": 5,\n        \"samples\": [\n          \"Boil pasta; Cook beef; Add sauce; Combine.\",\n          \"Prepare dough; Add toppings; Bake pizza.\",\n          \"Cook chicken; Add spices; Pour coconut milk; Simmer.\"\n        ],\n        \"semantic_type\": \"\",\n        \"description\": \"\"\n      }\n    },\n    {\n      \"column\": \"Cooking_Time_Minutes\",\n      \"properties\": {\n        \"dtype\": \"number\",\n        \"std\": 21,\n        \"min\": 15,\n        \"max\": 90,\n        \"num_unique_values\": 76,\n        \"samples\": [\n          85,\n          75,\n          34\n        ],\n        \"semantic_type\": \"\",\n        \"description\": \"\"\n      }\n    },\n    {\n      \"column\": \"Difficulty_Level\",\n      \"properties\": {\n        \"dtype\": \"category\",\n        \"num_unique_values\": 3,\n        \"samples\": [\n          \"Medium\",\n          \"Easy\",\n          \"Hard\"\n        ],\n        \"semantic_type\": \"\",\n        \"description\": \"\"\n      }\n    },\n    {\n      \"column\": \"User_ID\",\n      \"properties\": {\n        \"dtype\": \"category\",\n        \"num_unique_values\": 898,\n        \"samples\": [\n          \"U224\",\n          \"U719\",\n          \"U384\"\n        ],\n        \"semantic_type\": \"\",\n        \"description\": \"\"\n      }\n    },\n    {\n      \"column\": \"User_Preferences\",\n      \"properties\": {\n        \"dtype\": \"category\",\n        \"num_unique_values\": 3,\n        \"samples\": [\n          \"Gluten-Free\",\n          \"Vegan\",\n          \"Vegetarian\"\n        ],\n        \"semantic_type\": \"\",\n        \"description\": \"\"\n      }\n    },\n    {\n      \"column\": \"User_Rating\",\n      \"properties\": {\n        \"dtype\": \"number\",\n        \"std\": 1,\n        \"min\": 1,\n        \"max\": 5,\n        \"num_unique_values\": 5,\n        \"samples\": [\n          2,\n          1,\n          4\n        ],\n        \"semantic_type\": \"\",\n        \"description\": \"\"\n      }\n    },\n    {\n      \"column\": \"User_Feedback\",\n      \"properties\": {\n        \"dtype\": \"string\",\n        \"num_unique_values\": 5000,\n        \"samples\": [\n          \"Feedback 1502\",\n          \"Feedback 2587\",\n          \"Feedback 2654\"\n        ],\n        \"semantic_type\": \"\",\n        \"description\": \"\"\n      }\n    },\n    {\n      \"column\": \"Date_Prepared\",\n      \"properties\": {\n        \"dtype\": \"object\",\n        \"num_unique_values\": 366,\n        \"samples\": [\n          \"2024-06-26\",\n          \"2024-01-03\",\n          \"2024-12-06\"\n        ],\n        \"semantic_type\": \"\",\n        \"description\": \"\"\n      }\n    },\n    {\n      \"column\": \"Season\",\n      \"properties\": {\n        \"dtype\": \"category\",\n        \"num_unique_values\": 4,\n        \"samples\": [\n          \"Winter\",\n          \"Summer\",\n          \"Spring\"\n        ],\n        \"semantic_type\": \"\",\n        \"description\": \"\"\n      }\n    },\n    {\n      \"column\": \"Occasion\",\n      \"properties\": {\n        \"dtype\": \"category\",\n        \"num_unique_values\": 4,\n        \"samples\": [\n          \"Casual\",\n          \"Lunch\",\n          \"Party\"\n        ],\n        \"semantic_type\": \"\",\n        \"description\": \"\"\n      }\n    },\n    {\n      \"column\": \"Serving_Size\",\n      \"properties\": {\n        \"dtype\": \"number\",\n        \"std\": 1,\n        \"min\": 1,\n        \"max\": 6,\n        \"num_unique_values\": 6,\n        \"samples\": [\n          4,\n          5,\n          2\n        ],\n        \"semantic_type\": \"\",\n        \"description\": \"\"\n      }\n    },\n    {\n      \"column\": \"Calories_Per_Serving\",\n      \"properties\": {\n        \"dtype\": \"number\",\n        \"std\": 173,\n        \"min\": 200,\n        \"max\": 800,\n        \"num_unique_values\": 601,\n        \"samples\": [\n          378,\n          756,\n          434\n        ],\n        \"semantic_type\": \"\",\n        \"description\": \"\"\n      }\n    },\n    {\n      \"column\": \"Allergen_Information\",\n      \"properties\": {\n        \"dtype\": \"category\",\n        \"num_unique_values\": 3,\n        \"samples\": [\n          \"Gluten\",\n          \"Soy\",\n          \"Dairy\"\n        ],\n        \"semantic_type\": \"\",\n        \"description\": \"\"\n      }\n    },\n    {\n      \"column\": \"Cost_Per_Serving\",\n      \"properties\": {\n        \"dtype\": \"number\",\n        \"std\": 4.325057713180769,\n        \"min\": 5.0,\n        \"max\": 20.0,\n        \"num_unique_values\": 1448,\n        \"samples\": [\n          9.03,\n          9.83,\n          9.67\n        ],\n        \"semantic_type\": \"\",\n        \"description\": \"\"\n      }\n    },\n    {\n      \"column\": \"Popularity_Score\",\n      \"properties\": {\n        \"dtype\": \"number\",\n        \"std\": 129,\n        \"min\": 50,\n        \"max\": 500,\n        \"num_unique_values\": 451,\n        \"samples\": [\n          235,\n          106,\n          168\n        ],\n        \"semantic_type\": \"\",\n        \"description\": \"\"\n      }\n    },\n    {\n      \"column\": \"Seasonal_Availability\",\n      \"properties\": {\n        \"dtype\": \"category\",\n        \"num_unique_values\": 2,\n        \"samples\": [\n          \"Yes\",\n          \"No\"\n        ],\n        \"semantic_type\": \"\",\n        \"description\": \"\"\n      }\n    }\n  ]\n}"
            }
          },
          "metadata": {},
          "execution_count": 107
        }
      ]
    },
    {
      "cell_type": "markdown",
      "source": [
        "#***Understanding data:-***"
      ],
      "metadata": {
        "id": "92w10Fzs2uu2"
      }
    },
    {
      "cell_type": "code",
      "source": [
        "#shape of datset\n",
        "df.shape"
      ],
      "metadata": {
        "id": "qNPOeK9v2w2f",
        "colab": {
          "base_uri": "https://localhost:8080/"
        },
        "outputId": "8c7bea56-dc3e-447f-aeab-f93f36bf6b3d"
      },
      "execution_count": 108,
      "outputs": [
        {
          "output_type": "execute_result",
          "data": {
            "text/plain": [
              "(5000, 20)"
            ]
          },
          "metadata": {},
          "execution_count": 108
        }
      ]
    },
    {
      "cell_type": "code",
      "source": [
        "#dataset information\n",
        "df.info()"
      ],
      "metadata": {
        "id": "ptiPyEBb2vZd",
        "colab": {
          "base_uri": "https://localhost:8080/"
        },
        "outputId": "7f03ab43-4c56-4927-f485-131eb833c0d2"
      },
      "execution_count": 109,
      "outputs": [
        {
          "output_type": "stream",
          "name": "stdout",
          "text": [
            "<class 'pandas.core.frame.DataFrame'>\n",
            "RangeIndex: 5000 entries, 0 to 4999\n",
            "Data columns (total 20 columns):\n",
            " #   Column                 Non-Null Count  Dtype  \n",
            "---  ------                 --------------  -----  \n",
            " 0   Recipe_ID              5000 non-null   object \n",
            " 1   Recipe_Name            5000 non-null   object \n",
            " 2   Cuisine_Type           5000 non-null   object \n",
            " 3   Ingredients_List       5000 non-null   object \n",
            " 4   Preparation_Steps      5000 non-null   object \n",
            " 5   Cooking_Time_Minutes   5000 non-null   int64  \n",
            " 6   Difficulty_Level       5000 non-null   object \n",
            " 7   User_ID                5000 non-null   object \n",
            " 8   User_Preferences       2997 non-null   object \n",
            " 9   User_Rating            5000 non-null   int64  \n",
            " 10  User_Feedback          5000 non-null   object \n",
            " 11  Date_Prepared          5000 non-null   object \n",
            " 12  Season                 5000 non-null   object \n",
            " 13  Occasion               5000 non-null   object \n",
            " 14  Serving_Size           5000 non-null   int64  \n",
            " 15  Calories_Per_Serving   5000 non-null   int64  \n",
            " 16  Allergen_Information   3052 non-null   object \n",
            " 17  Cost_Per_Serving       5000 non-null   float64\n",
            " 18  Popularity_Score       5000 non-null   int64  \n",
            " 19  Seasonal_Availability  5000 non-null   object \n",
            "dtypes: float64(1), int64(5), object(14)\n",
            "memory usage: 781.4+ KB\n"
          ]
        }
      ]
    },
    {
      "cell_type": "markdown",
      "source": [
        "#***Data Cleaning:-***"
      ],
      "metadata": {
        "id": "ZMYJDmxxC7BZ"
      }
    },
    {
      "cell_type": "code",
      "source": [
        "#dataset null values\n",
        "df.isnull().sum()"
      ],
      "metadata": {
        "id": "jYZfYflb2vdY",
        "colab": {
          "base_uri": "https://localhost:8080/",
          "height": 711
        },
        "outputId": "ac70c49f-14f2-4587-e3aa-1c3382324ef6"
      },
      "execution_count": 110,
      "outputs": [
        {
          "output_type": "execute_result",
          "data": {
            "text/plain": [
              "Recipe_ID                   0\n",
              "Recipe_Name                 0\n",
              "Cuisine_Type                0\n",
              "Ingredients_List            0\n",
              "Preparation_Steps           0\n",
              "Cooking_Time_Minutes        0\n",
              "Difficulty_Level            0\n",
              "User_ID                     0\n",
              "User_Preferences         2003\n",
              "User_Rating                 0\n",
              "User_Feedback               0\n",
              "Date_Prepared               0\n",
              "Season                      0\n",
              "Occasion                    0\n",
              "Serving_Size                0\n",
              "Calories_Per_Serving        0\n",
              "Allergen_Information     1948\n",
              "Cost_Per_Serving            0\n",
              "Popularity_Score            0\n",
              "Seasonal_Availability       0\n",
              "dtype: int64"
            ],
            "text/html": [
              "<div>\n",
              "<style scoped>\n",
              "    .dataframe tbody tr th:only-of-type {\n",
              "        vertical-align: middle;\n",
              "    }\n",
              "\n",
              "    .dataframe tbody tr th {\n",
              "        vertical-align: top;\n",
              "    }\n",
              "\n",
              "    .dataframe thead th {\n",
              "        text-align: right;\n",
              "    }\n",
              "</style>\n",
              "<table border=\"1\" class=\"dataframe\">\n",
              "  <thead>\n",
              "    <tr style=\"text-align: right;\">\n",
              "      <th></th>\n",
              "      <th>0</th>\n",
              "    </tr>\n",
              "  </thead>\n",
              "  <tbody>\n",
              "    <tr>\n",
              "      <th>Recipe_ID</th>\n",
              "      <td>0</td>\n",
              "    </tr>\n",
              "    <tr>\n",
              "      <th>Recipe_Name</th>\n",
              "      <td>0</td>\n",
              "    </tr>\n",
              "    <tr>\n",
              "      <th>Cuisine_Type</th>\n",
              "      <td>0</td>\n",
              "    </tr>\n",
              "    <tr>\n",
              "      <th>Ingredients_List</th>\n",
              "      <td>0</td>\n",
              "    </tr>\n",
              "    <tr>\n",
              "      <th>Preparation_Steps</th>\n",
              "      <td>0</td>\n",
              "    </tr>\n",
              "    <tr>\n",
              "      <th>Cooking_Time_Minutes</th>\n",
              "      <td>0</td>\n",
              "    </tr>\n",
              "    <tr>\n",
              "      <th>Difficulty_Level</th>\n",
              "      <td>0</td>\n",
              "    </tr>\n",
              "    <tr>\n",
              "      <th>User_ID</th>\n",
              "      <td>0</td>\n",
              "    </tr>\n",
              "    <tr>\n",
              "      <th>User_Preferences</th>\n",
              "      <td>2003</td>\n",
              "    </tr>\n",
              "    <tr>\n",
              "      <th>User_Rating</th>\n",
              "      <td>0</td>\n",
              "    </tr>\n",
              "    <tr>\n",
              "      <th>User_Feedback</th>\n",
              "      <td>0</td>\n",
              "    </tr>\n",
              "    <tr>\n",
              "      <th>Date_Prepared</th>\n",
              "      <td>0</td>\n",
              "    </tr>\n",
              "    <tr>\n",
              "      <th>Season</th>\n",
              "      <td>0</td>\n",
              "    </tr>\n",
              "    <tr>\n",
              "      <th>Occasion</th>\n",
              "      <td>0</td>\n",
              "    </tr>\n",
              "    <tr>\n",
              "      <th>Serving_Size</th>\n",
              "      <td>0</td>\n",
              "    </tr>\n",
              "    <tr>\n",
              "      <th>Calories_Per_Serving</th>\n",
              "      <td>0</td>\n",
              "    </tr>\n",
              "    <tr>\n",
              "      <th>Allergen_Information</th>\n",
              "      <td>1948</td>\n",
              "    </tr>\n",
              "    <tr>\n",
              "      <th>Cost_Per_Serving</th>\n",
              "      <td>0</td>\n",
              "    </tr>\n",
              "    <tr>\n",
              "      <th>Popularity_Score</th>\n",
              "      <td>0</td>\n",
              "    </tr>\n",
              "    <tr>\n",
              "      <th>Seasonal_Availability</th>\n",
              "      <td>0</td>\n",
              "    </tr>\n",
              "  </tbody>\n",
              "</table>\n",
              "</div><br><label><b>dtype:</b> int64</label>"
            ]
          },
          "metadata": {},
          "execution_count": 110
        }
      ]
    },
    {
      "cell_type": "code",
      "source": [
        "#Treating the missing values in 'Allergen_Information' none\n",
        "df['Allergen_Information']=df['Allergen_Information'].fillna('None')"
      ],
      "metadata": {
        "id": "Um0s5mC-o8Rw"
      },
      "execution_count": 111,
      "outputs": []
    },
    {
      "cell_type": "code",
      "source": [
        "#Treating the missing values in 'Allergen_Information' none\n",
        "df['User_Preferences']=df['User_Preferences'].fillna('None')"
      ],
      "metadata": {
        "id": "yYFKyw0KqNCQ"
      },
      "execution_count": 112,
      "outputs": []
    },
    {
      "cell_type": "code",
      "source": [
        "#check the duplicated rows\n",
        "df.duplicated().sum()"
      ],
      "metadata": {
        "id": "GEFWVpW6ErTa",
        "colab": {
          "base_uri": "https://localhost:8080/"
        },
        "outputId": "99f0e656-f9b8-4276-9090-10af9d6b5f61"
      },
      "execution_count": 113,
      "outputs": [
        {
          "output_type": "execute_result",
          "data": {
            "text/plain": [
              "0"
            ]
          },
          "metadata": {},
          "execution_count": 113
        }
      ]
    },
    {
      "cell_type": "code",
      "source": [
        "#drop unncessary column\n",
        "df.drop(columns=['User_ID','Recipe_ID','User_Rating','User_Feedback','Date_Prepared','Serving_Size','Cost_Per_Serving','Calories_Per_Serving','Popularity_Score'],inplace=True)"
      ],
      "metadata": {
        "id": "2m_GSdCeiXRy"
      },
      "execution_count": 114,
      "outputs": []
    },
    {
      "cell_type": "code",
      "source": [
        "#categorical column list\n",
        "cate_col=df.select_dtypes(include='object').columns\n",
        "cate_col"
      ],
      "metadata": {
        "colab": {
          "base_uri": "https://localhost:8080/"
        },
        "id": "orKa906s2-NR",
        "outputId": "8c34e9be-49d2-40f2-d630-082160f7cbc3"
      },
      "execution_count": 127,
      "outputs": [
        {
          "output_type": "execute_result",
          "data": {
            "text/plain": [
              "Index(['Recipe_Name', 'Cuisine_Type', 'Ingredients_List', 'Preparation_Steps',\n",
              "       'Difficulty_Level', 'User_Preferences', 'Season', 'Occasion',\n",
              "       'Allergen_Information', 'Seasonal_Availability'],\n",
              "      dtype='object')"
            ]
          },
          "metadata": {},
          "execution_count": 127
        }
      ]
    },
    {
      "cell_type": "code",
      "source": [
        "# Print unique values for each categorical column\n",
        "for col in cate_col:\n",
        "    print(f\"Unique values in column '{col}':\")\n",
        "    print(df[col].unique())\n",
        "    print(\"-\" * 50)"
      ],
      "metadata": {
        "colab": {
          "base_uri": "https://localhost:8080/"
        },
        "id": "2mUPQROL3Tgt",
        "outputId": "4000fa0e-cb65-4c63-dd05-98a70304ce49"
      },
      "execution_count": 131,
      "outputs": [
        {
          "output_type": "stream",
          "name": "stdout",
          "text": [
            "Unique values in column 'Recipe_Name':\n",
            "['Beef Tacos' 'Spaghetti Bolognese' 'Chicken Curry' 'Vegetable Stir Fry'\n",
            " 'Margherita Pizza']\n",
            "--------------------------------------------------\n",
            "Unique values in column 'Cuisine_Type':\n",
            "['Mexican' 'Italian' 'Indian' 'Chinese']\n",
            "--------------------------------------------------\n",
            "Unique values in column 'Ingredients_List':\n",
            "['Beef, Taco Shells, Lettuce, Cheese, Tomato'\n",
            " 'Spaghetti, Ground Beef, Tomato Sauce, Onion, Garlic'\n",
            " 'Chicken, Curry Powder, Coconut Milk, Onion, Garlic'\n",
            " 'Broccoli, Carrot, Bell Pepper, Soy Sauce, Garlic'\n",
            " 'Pizza Dough, Tomato Sauce, Mozzarella, Basil, Olive Oil']\n",
            "--------------------------------------------------\n",
            "Unique values in column 'Preparation_Steps':\n",
            "['Cook beef; Prepare toppings; Assemble tacos.'\n",
            " 'Boil pasta; Cook beef; Add sauce; Combine.'\n",
            " 'Cook chicken; Add spices; Pour coconut milk; Simmer.'\n",
            " 'Chop veggies; Stir-fry; Add sauce; Serve.'\n",
            " 'Prepare dough; Add toppings; Bake pizza.']\n",
            "--------------------------------------------------\n",
            "Unique values in column 'Difficulty_Level':\n",
            "['Medium' 'Easy' 'Hard']\n",
            "--------------------------------------------------\n",
            "Unique values in column 'User_Preferences':\n",
            "['None' 'Gluten-Free' 'Vegan' 'Vegetarian']\n",
            "--------------------------------------------------\n",
            "Unique values in column 'Season':\n",
            "['Spring' 'Winter' 'Fall' 'Summer']\n",
            "--------------------------------------------------\n",
            "Unique values in column 'Occasion':\n",
            "['Party' 'Casual' 'Dinner' 'Lunch']\n",
            "--------------------------------------------------\n",
            "Unique values in column 'Allergen_Information':\n",
            "['None' 'Gluten' 'Soy' 'Dairy']\n",
            "--------------------------------------------------\n",
            "Unique values in column 'Seasonal_Availability':\n",
            "['No' 'Yes']\n",
            "--------------------------------------------------\n"
          ]
        }
      ]
    },
    {
      "cell_type": "code",
      "source": [
        "df.shape"
      ],
      "metadata": {
        "colab": {
          "base_uri": "https://localhost:8080/"
        },
        "id": "VUapaoGmqpnB",
        "outputId": "0750a59a-8e32-467d-b98d-cb10708c9819"
      },
      "execution_count": 115,
      "outputs": [
        {
          "output_type": "execute_result",
          "data": {
            "text/plain": [
              "(5000, 11)"
            ]
          },
          "metadata": {},
          "execution_count": 115
        }
      ]
    },
    {
      "cell_type": "markdown",
      "source": [
        "#***Data Visualization:-***"
      ],
      "metadata": {
        "id": "1YJJjhbX2Txg"
      }
    },
    {
      "cell_type": "code",
      "source": [
        "# Count plot for Cuisine_Type\n",
        "plt.figure(figsize=(10, 6))\n",
        "sns.countplot(data=df, x='Cuisine_Type', order=df['Cuisine_Type'].value_counts().index, palette='viridis')\n",
        "plt.title('Distribution of Recipes by Cuisine Type', fontsize=16)\n",
        "plt.xlabel('Cuisine Type')\n",
        "plt.ylabel('Count')\n",
        "plt.xticks(rotation=45)\n",
        "plt.show()"
      ],
      "metadata": {
        "id": "mYRR8cYAiXYy",
        "colab": {
          "base_uri": "https://localhost:8080/",
          "height": 603
        },
        "outputId": "9cc361b2-5e1e-439e-8c96-15324ac4df03"
      },
      "execution_count": 119,
      "outputs": [
        {
          "output_type": "display_data",
          "data": {
            "text/plain": [
              "<Figure size 1000x600 with 1 Axes>"
            ],
            "image/png": "[encoded data removed]"
          },
          "metadata": {}
        }
      ]
    },
    {
      "cell_type": "code",
      "source": [
        "# Count plot for Difficulty_Level\n",
        "plt.figure(figsize=(8, 5))\n",
        "sns.countplot(data=df, x='Difficulty_Level', palette='pastel')\n",
        "plt.title('Recipes by Difficulty Level', fontsize=16)\n",
        "plt.xlabel('Difficulty Level')\n",
        "plt.ylabel('Count')\n",
        "plt.show()"
      ],
      "metadata": {
        "id": "ZNwlE6xriXcA",
        "colab": {
          "base_uri": "https://localhost:8080/",
          "height": 489
        },
        "outputId": "839907ab-1070-4372-a091-f779b744feca"
      },
      "execution_count": 120,
      "outputs": [
        {
          "output_type": "display_data",
          "data": {
            "text/plain": [
              "<Figure size 800x500 with 1 Axes>"
            ],
            "image/png": "[encoded data removed]"
          },
          "metadata": {}
        }
      ]
    },
    {
      "cell_type": "code",
      "source": [
        "# Count plot for Season\n",
        "plt.figure(figsize=(8, 5))\n",
        "sns.countplot(data=df, x='Season', palette='coolwarm')\n",
        "plt.title('Recipe Distribution by Season', fontsize=16)\n",
        "plt.xlabel('Season')\n",
        "plt.ylabel('Count')\n",
        "plt.show()\n"
      ],
      "metadata": {
        "colab": {
          "base_uri": "https://localhost:8080/",
          "height": 489
        },
        "id": "bGQkTOGq02C_",
        "outputId": "0b82db4d-cb92-47eb-f7c7-1c6a0efd1dfb"
      },
      "execution_count": 122,
      "outputs": [
        {
          "output_type": "display_data",
          "data": {
            "text/plain": [
              "<Figure size 800x500 with 1 Axes>"
            ],
            "image/png": "[encoded data removed]"
          },
          "metadata": {}
        }
      ]
    },
    {
      "cell_type": "code",
      "source": [
        "# Count plot for Allergen_Information\n",
        "plt.figure(figsize=(10, 6))\n",
        "sns.countplot(data=df, x='Allergen_Information', order=df['Allergen_Information'].value_counts().index, palette='Set2')\n",
        "plt.title('Allergen Information in Recipes', fontsize=16)\n",
        "plt.xlabel('Allergen Information')\n",
        "plt.ylabel('Count')\n",
        "plt.xticks(rotation=45)\n",
        "plt.show()\n"
      ],
      "metadata": {
        "colab": {
          "base_uri": "https://localhost:8080/",
          "height": 595
        },
        "id": "RntGIq1T05Jf",
        "outputId": "bd92f58e-a575-4976-c3ed-0feaf686dec8"
      },
      "execution_count": 123,
      "outputs": [
        {
          "output_type": "display_data",
          "data": {
            "text/plain": [
              "<Figure size 1000x600 with 1 Axes>"
            ],
            "image/png": "[encoded data removed]"
          },
          "metadata": {}
        }
      ]
    },
    {
      "cell_type": "code",
      "source": [
        "# Count plot for Seasonal_Availability\n",
        "plt.figure(figsize=(6, 5))\n",
        "sns.countplot(data=df, x='Seasonal_Availability', palette='muted')\n",
        "plt.title('Seasonal Availability of Recipes', fontsize=16)\n",
        "plt.xlabel('Seasonal Availability')\n",
        "plt.ylabel('Count')\n",
        "plt.show()\n"
      ],
      "metadata": {
        "colab": {
          "base_uri": "https://localhost:8080/",
          "height": 489
        },
        "id": "0aq5xRG909jY",
        "outputId": "bb9072b1-0ce6-41c5-d830-384533750284"
      },
      "execution_count": 124,
      "outputs": [
        {
          "output_type": "display_data",
          "data": {
            "text/plain": [
              "<Figure size 600x500 with 1 Axes>"
            ],
            "image/png": "[encoded data removed]"
          },
          "metadata": {}
        }
      ]
    },
    {
      "cell_type": "code",
      "source": [
        "# Count plot for Occasion\n",
        "plt.figure(figsize=(10, 6))\n",
        "sns.countplot(data=df, x='Occasion', order=df['Occasion'].value_counts().index, palette='cool')\n",
        "plt.title('Distribution of Recipes by Occasion', fontsize=16)\n",
        "plt.xlabel('Occasion')\n",
        "plt.ylabel('Count')\n",
        "plt.xticks(rotation=45)\n",
        "plt.show()\n"
      ],
      "metadata": {
        "colab": {
          "base_uri": "https://localhost:8080/",
          "height": 595
        },
        "id": "itnAsy5Q1FNT",
        "outputId": "335e56fa-7011-4044-ee97-6ee44fd58bec"
      },
      "execution_count": 125,
      "outputs": [
        {
          "output_type": "display_data",
          "data": {
            "text/plain": [
              "<Figure size 1000x600 with 1 Axes>"
            ],
            "image/png": "[encoded data removed]"
          },
          "metadata": {}
        }
      ]
    },
    {
      "cell_type": "code",
      "source": [
        "# Histogram for Cooking_Time_Minutes\n",
        "plt.figure(figsize=(8, 5))\n",
        "sns.histplot(df['Cooking_Time_Minutes'], bins=20, kde=True, color='skyblue')\n",
        "plt.title('Distribution of Cooking Time (Minutes)', fontsize=16)\n",
        "plt.xlabel('Cooking Time (Minutes)')\n",
        "plt.ylabel('Frequency')\n",
        "plt.show()\n"
      ],
      "metadata": {
        "id": "jjJ4NcgBiXej",
        "colab": {
          "base_uri": "https://localhost:8080/",
          "height": 489
        },
        "outputId": "e05789e4-e28d-41ce-b6c1-06bbbb0bc6f3"
      },
      "execution_count": 121,
      "outputs": [
        {
          "output_type": "display_data",
          "data": {
            "text/plain": [
              "<Figure size 800x500 with 1 Axes>"
            ],
            "image/png": "[encoded data removed]"
          },
          "metadata": {}
        }
      ]
    },
    {
      "cell_type": "code",
      "source": [
        "#bar chart recipe neame\n",
        "plt.figure(figsize=(10, 6))\n",
        "sns.countplot(data=df, x='Recipe_Name', palette='viridis')\n",
        "plt.show()"
      ],
      "metadata": {
        "colab": {
          "base_uri": "https://localhost:8080/",
          "height": 542
        },
        "id": "HlAThXHxPbID",
        "outputId": "969eaffe-09dd-4e80-8e6b-78e833348a92"
      },
      "execution_count": 138,
      "outputs": [
        {
          "output_type": "display_data",
          "data": {
            "text/plain": [
              "<Figure size 1000x600 with 1 Axes>"
            ],
            "image/png": "[encoded data removed]"
          },
          "metadata": {}
        }
      ]
    },
    {
      "cell_type": "code",
      "source": [
        "#drop Cooking_Time_Minutes column not necssary\n",
        "df.drop(columns=['Cooking_Time_Minutes'],inplace=True)"
      ],
      "metadata": {
        "id": "ZC_5A5-w8mPR"
      },
      "execution_count": 133,
      "outputs": []
    },
    {
      "cell_type": "code",
      "source": [
        "df"
      ],
      "metadata": {
        "id": "G_KK7GGPiXhL",
        "colab": {
          "base_uri": "https://localhost:8080/",
          "height": 791
        },
        "outputId": "9f3bbc74-d7c9-4006-80ab-f62df0c23b7b"
      },
      "execution_count": 134,
      "outputs": [
        {
          "output_type": "execute_result",
          "data": {
            "text/plain": [
              "              Recipe_Name Cuisine_Type  \\\n",
              "0              Beef Tacos      Mexican   \n",
              "1     Spaghetti Bolognese      Italian   \n",
              "2           Chicken Curry       Indian   \n",
              "3           Chicken Curry       Indian   \n",
              "4      Vegetable Stir Fry      Chinese   \n",
              "...                   ...          ...   \n",
              "4995   Vegetable Stir Fry      Chinese   \n",
              "4996        Chicken Curry       Indian   \n",
              "4997   Vegetable Stir Fry      Chinese   \n",
              "4998   Vegetable Stir Fry      Chinese   \n",
              "4999   Vegetable Stir Fry      Chinese   \n",
              "\n",
              "                                       Ingredients_List  \\\n",
              "0            Beef, Taco Shells, Lettuce, Cheese, Tomato   \n",
              "1     Spaghetti, Ground Beef, Tomato Sauce, Onion, G...   \n",
              "2     Chicken, Curry Powder, Coconut Milk, Onion, Ga...   \n",
              "3     Chicken, Curry Powder, Coconut Milk, Onion, Ga...   \n",
              "4      Broccoli, Carrot, Bell Pepper, Soy Sauce, Garlic   \n",
              "...                                                 ...   \n",
              "4995   Broccoli, Carrot, Bell Pepper, Soy Sauce, Garlic   \n",
              "4996  Chicken, Curry Powder, Coconut Milk, Onion, Ga...   \n",
              "4997   Broccoli, Carrot, Bell Pepper, Soy Sauce, Garlic   \n",
              "4998   Broccoli, Carrot, Bell Pepper, Soy Sauce, Garlic   \n",
              "4999   Broccoli, Carrot, Bell Pepper, Soy Sauce, Garlic   \n",
              "\n",
              "                                      Preparation_Steps Difficulty_Level  \\\n",
              "0          Cook beef; Prepare toppings; Assemble tacos.           Medium   \n",
              "1            Boil pasta; Cook beef; Add sauce; Combine.             Easy   \n",
              "2     Cook chicken; Add spices; Pour coconut milk; S...           Medium   \n",
              "3     Cook chicken; Add spices; Pour coconut milk; S...           Medium   \n",
              "4             Chop veggies; Stir-fry; Add sauce; Serve.             Easy   \n",
              "...                                                 ...              ...   \n",
              "4995          Chop veggies; Stir-fry; Add sauce; Serve.             Easy   \n",
              "4996  Cook chicken; Add spices; Pour coconut milk; S...           Medium   \n",
              "4997          Chop veggies; Stir-fry; Add sauce; Serve.             Easy   \n",
              "4998          Chop veggies; Stir-fry; Add sauce; Serve.             Easy   \n",
              "4999          Chop veggies; Stir-fry; Add sauce; Serve.             Easy   \n",
              "\n",
              "     User_Preferences  Season Occasion Allergen_Information  \\\n",
              "0                None  Spring    Party                 None   \n",
              "1                None  Winter   Casual               Gluten   \n",
              "2         Gluten-Free  Winter    Party                 None   \n",
              "3         Gluten-Free  Spring   Casual                 None   \n",
              "4               Vegan    Fall   Dinner                  Soy   \n",
              "...               ...     ...      ...                  ...   \n",
              "4995            Vegan  Summer   Casual                  Soy   \n",
              "4996      Gluten-Free  Winter   Casual                 None   \n",
              "4997            Vegan  Winter    Party                  Soy   \n",
              "4998            Vegan  Spring   Dinner                  Soy   \n",
              "4999            Vegan  Summer    Lunch                  Soy   \n",
              "\n",
              "     Seasonal_Availability  \n",
              "0                       No  \n",
              "1                       No  \n",
              "2                      Yes  \n",
              "3                      Yes  \n",
              "4                       No  \n",
              "...                    ...  \n",
              "4995                    No  \n",
              "4996                    No  \n",
              "4997                   Yes  \n",
              "4998                    No  \n",
              "4999                    No  \n",
              "\n",
              "[5000 rows x 10 columns]"
            ],
            "text/html": [
              "\n",
              "  <div id=\"df-ea8d36e0-fe96-4a34-9207-782b9e902542\" class=\"colab-df-container\">\n",
              "    <div>\n",
              "<style scoped>\n",
              "    .dataframe tbody tr th:only-of-type {\n",
              "        vertical-align: middle;\n",
              "    }\n",
              "\n",
              "    .dataframe tbody tr th {\n",
              "        vertical-align: top;\n",
              "    }\n",
              "\n",
              "    .dataframe thead th {\n",
              "        text-align: right;\n",
              "    }\n",
              "</style>\n",
              "<table border=\"1\" class=\"dataframe\">\n",
              "  <thead>\n",
              "    <tr style=\"text-align: right;\">\n",
              "      <th></th>\n",
              "      <th>Recipe_Name</th>\n",
              "      <th>Cuisine_Type</th>\n",
              "      <th>Ingredients_List</th>\n",
              "      <th>Preparation_Steps</th>\n",
              "      <th>Difficulty_Level</th>\n",
              "      <th>User_Preferences</th>\n",
              "      <th>Season</th>\n",
              "      <th>Occasion</th>\n",
              "      <th>Allergen_Information</th>\n",
              "      <th>Seasonal_Availability</th>\n",
              "    </tr>\n",
              "  </thead>\n",
              "  <tbody>\n",
              "    <tr>\n",
              "      <th>0</th>\n",
              "      <td>Beef Tacos</td>\n",
              "      <td>Mexican</td>\n",
              "      <td>Beef, Taco Shells, Lettuce, Cheese, Tomato</td>\n",
              "      <td>Cook beef; Prepare toppings; Assemble tacos.</td>\n",
              "      <td>Medium</td>\n",
              "      <td>None</td>\n",
              "      <td>Spring</td>\n",
              "      <td>Party</td>\n",
              "      <td>None</td>\n",
              "      <td>No</td>\n",
              "    </tr>\n",
              "    <tr>\n",
              "      <th>1</th>\n",
              "      <td>Spaghetti Bolognese</td>\n",
              "      <td>Italian</td>\n",
              "      <td>Spaghetti, Ground Beef, Tomato Sauce, Onion, G...</td>\n",
              "      <td>Boil pasta; Cook beef; Add sauce; Combine.</td>\n",
              "      <td>Easy</td>\n",
              "      <td>None</td>\n",
              "      <td>Winter</td>\n",
              "      <td>Casual</td>\n",
              "      <td>Gluten</td>\n",
              "      <td>No</td>\n",
              "    </tr>\n",
              "    <tr>\n",
              "      <th>2</th>\n",
              "      <td>Chicken Curry</td>\n",
              "      <td>Indian</td>\n",
              "      <td>Chicken, Curry Powder, Coconut Milk, Onion, Ga...</td>\n",
              "      <td>Cook chicken; Add spices; Pour coconut milk; S...</td>\n",
              "      <td>Medium</td>\n",
              "      <td>Gluten-Free</td>\n",
              "      <td>Winter</td>\n",
              "      <td>Party</td>\n",
              "      <td>None</td>\n",
              "      <td>Yes</td>\n",
              "    </tr>\n",
              "    <tr>\n",
              "      <th>3</th>\n",
              "      <td>Chicken Curry</td>\n",
              "      <td>Indian</td>\n",
              "      <td>Chicken, Curry Powder, Coconut Milk, Onion, Ga...</td>\n",
              "      <td>Cook chicken; Add spices; Pour coconut milk; S...</td>\n",
              "      <td>Medium</td>\n",
              "      <td>Gluten-Free</td>\n",
              "      <td>Spring</td>\n",
              "      <td>Casual</td>\n",
              "      <td>None</td>\n",
              "      <td>Yes</td>\n",
              "    </tr>\n",
              "    <tr>\n",
              "      <th>4</th>\n",
              "      <td>Vegetable Stir Fry</td>\n",
              "      <td>Chinese</td>\n",
              "      <td>Broccoli, Carrot, Bell Pepper, Soy Sauce, Garlic</td>\n",
              "      <td>Chop veggies; Stir-fry; Add sauce; Serve.</td>\n",
              "      <td>Easy</td>\n",
              "      <td>Vegan</td>\n",
              "      <td>Fall</td>\n",
              "      <td>Dinner</td>\n",
              "      <td>Soy</td>\n",
              "      <td>No</td>\n",
              "    </tr>\n",
              "    <tr>\n",
              "      <th>...</th>\n",
              "      <td>...</td>\n",
              "      <td>...</td>\n",
              "      <td>...</td>\n",
              "      <td>...</td>\n",
              "      <td>...</td>\n",
              "      <td>...</td>\n",
              "      <td>...</td>\n",
              "      <td>...</td>\n",
              "      <td>...</td>\n",
              "      <td>...</td>\n",
              "    </tr>\n",
              "    <tr>\n",
              "      <th>4995</th>\n",
              "      <td>Vegetable Stir Fry</td>\n",
              "      <td>Chinese</td>\n",
              "      <td>Broccoli, Carrot, Bell Pepper, Soy Sauce, Garlic</td>\n",
              "      <td>Chop veggies; Stir-fry; Add sauce; Serve.</td>\n",
              "      <td>Easy</td>\n",
              "      <td>Vegan</td>\n",
              "      <td>Summer</td>\n",
              "      <td>Casual</td>\n",
              "      <td>Soy</td>\n",
              "      <td>No</td>\n",
              "    </tr>\n",
              "    <tr>\n",
              "      <th>4996</th>\n",
              "      <td>Chicken Curry</td>\n",
              "      <td>Indian</td>\n",
              "      <td>Chicken, Curry Powder, Coconut Milk, Onion, Ga...</td>\n",
              "      <td>Cook chicken; Add spices; Pour coconut milk; S...</td>\n",
              "      <td>Medium</td>\n",
              "      <td>Gluten-Free</td>\n",
              "      <td>Winter</td>\n",
              "      <td>Casual</td>\n",
              "      <td>None</td>\n",
              "      <td>No</td>\n",
              "    </tr>\n",
              "    <tr>\n",
              "      <th>4997</th>\n",
              "      <td>Vegetable Stir Fry</td>\n",
              "      <td>Chinese</td>\n",
              "      <td>Broccoli, Carrot, Bell Pepper, Soy Sauce, Garlic</td>\n",
              "      <td>Chop veggies; Stir-fry; Add sauce; Serve.</td>\n",
              "      <td>Easy</td>\n",
              "      <td>Vegan</td>\n",
              "      <td>Winter</td>\n",
              "      <td>Party</td>\n",
              "      <td>Soy</td>\n",
              "      <td>Yes</td>\n",
              "    </tr>\n",
              "    <tr>\n",
              "      <th>4998</th>\n",
              "      <td>Vegetable Stir Fry</td>\n",
              "      <td>Chinese</td>\n",
              "      <td>Broccoli, Carrot, Bell Pepper, Soy Sauce, Garlic</td>\n",
              "      <td>Chop veggies; Stir-fry; Add sauce; Serve.</td>\n",
              "      <td>Easy</td>\n",
              "      <td>Vegan</td>\n",
              "      <td>Spring</td>\n",
              "      <td>Dinner</td>\n",
              "      <td>Soy</td>\n",
              "      <td>No</td>\n",
              "    </tr>\n",
              "    <tr>\n",
              "      <th>4999</th>\n",
              "      <td>Vegetable Stir Fry</td>\n",
              "      <td>Chinese</td>\n",
              "      <td>Broccoli, Carrot, Bell Pepper, Soy Sauce, Garlic</td>\n",
              "      <td>Chop veggies; Stir-fry; Add sauce; Serve.</td>\n",
              "      <td>Easy</td>\n",
              "      <td>Vegan</td>\n",
              "      <td>Summer</td>\n",
              "      <td>Lunch</td>\n",
              "      <td>Soy</td>\n",
              "      <td>No</td>\n",
              "    </tr>\n",
              "  </tbody>\n",
              "</table>\n",
              "<p>5000 rows × 10 columns</p>\n",
              "</div>\n",
              "    <div class=\"colab-df-buttons\">\n",
              "\n",
              "  <div class=\"colab-df-container\">\n",
              "    <button class=\"colab-df-convert\" onclick=\"convertToInteractive('df-ea8d36e0-fe96-4a34-9207-782b9e902542')\"\n",
              "            title=\"Convert this dataframe to an interactive table.\"\n",
              "            style=\"display:none;\">\n",
              "\n",
              "  <svg xmlns=\"http://www.w3.org/2000/svg\" height=\"24px\" viewBox=\"0 -960 960 960\">\n",
              "    <path d=\"M120-120v-720h720v720H120Zm60-500h600v-160H180v160Zm220 220h160v-160H400v160Zm0 220h160v-160H400v160ZM180-400h160v-160H180v160Zm440 0h160v-160H620v160ZM180-180h160v-160H180v160Zm440 0h160v-160H620v160Z\"/>\n",
              "  </svg>\n",
              "    </button>\n",
              "\n",
              "  <style>\n",
              "    .colab-df-container {\n",
              "      display:flex;\n",
              "      gap: 12px;\n",
              "    }\n",
              "\n",
              "    .colab-df-convert {\n",
              "      background-color: #E8F0FE;\n",
              "      border: none;\n",
              "      border-radius: 50%;\n",
              "      cursor: pointer;\n",
              "      display: none;\n",
              "      fill: #1967D2;\n",
              "      height: 32px;\n",
              "      padding: 0 0 0 0;\n",
              "      width: 32px;\n",
              "    }\n",
              "\n",
              "    .colab-df-convert:hover {\n",
              "      background-color: #E2EBFA;\n",
              "      box-shadow: 0px 1px 2px rgba(60, 64, 67, 0.3), 0px 1px 3px 1px rgba(60, 64, 67, 0.15);\n",
              "      fill: #174EA6;\n",
              "    }\n",
              "\n",
              "    .colab-df-buttons div {\n",
              "      margin-bottom: 4px;\n",
              "    }\n",
              "\n",
              "    [theme=dark] .colab-df-convert {\n",
              "      background-color: #3B4455;\n",
              "      fill: #D2E3FC;\n",
              "    }\n",
              "\n",
              "    [theme=dark] .colab-df-convert:hover {\n",
              "      background-color: #434B5C;\n",
              "      box-shadow: 0px 1px 3px 1px rgba(0, 0, 0, 0.15);\n",
              "      filter: drop-shadow(0px 1px 2px rgba(0, 0, 0, 0.3));\n",
              "      fill: #FFFFFF;\n",
              "    }\n",
              "  </style>\n",
              "\n",
              "    <script>\n",
              "      const buttonEl =\n",
              "        document.querySelector('#df-ea8d36e0-fe96-4a34-9207-782b9e902542 button.colab-df-convert');\n",
              "      buttonEl.style.display =\n",
              "        google.colab.kernel.accessAllowed ? 'block' : 'none';\n",
              "\n",
              "      async function convertToInteractive(key) {\n",
              "        const element = document.querySelector('#df-ea8d36e0-fe96-4a34-9207-782b9e902542');\n",
              "        const dataTable =\n",
              "          await google.colab.kernel.invokeFunction('convertToInteractive',\n",
              "                                                    [key], {});\n",
              "        if (!dataTable) return;\n",
              "\n",
              "        const docLinkHtml = 'Like what you see? Visit the ' +\n",
              "          '<a target=\"_blank\" href=https://colab.research.google.com/notebooks/data_table.ipynb>data table notebook</a>'\n",
              "          + ' to learn more about interactive tables.';\n",
              "        element.innerHTML = '';\n",
              "        dataTable['output_type'] = 'display_data';\n",
              "        await google.colab.output.renderOutput(dataTable, element);\n",
              "        const docLink = document.createElement('div');\n",
              "        docLink.innerHTML = docLinkHtml;\n",
              "        element.appendChild(docLink);\n",
              "      }\n",
              "    </script>\n",
              "  </div>\n",
              "\n",
              "\n",
              "<div id=\"df-95cbbc84-b136-4681-919f-1842815e0c2c\">\n",
              "  <button class=\"colab-df-quickchart\" onclick=\"quickchart('df-95cbbc84-b136-4681-919f-1842815e0c2c')\"\n",
              "            title=\"Suggest charts\"\n",
              "            style=\"display:none;\">\n",
              "\n",
              "<svg xmlns=\"http://www.w3.org/2000/svg\" height=\"24px\"viewBox=\"0 0 24 24\"\n",
              "     width=\"24px\">\n",
              "    <g>\n",
              "        <path d=\"M19 3H5c-1.1 0-2 .9-2 2v14c0 1.1.9 2 2 2h14c1.1 0 2-.9 2-2V5c0-1.1-.9-2-2-2zM9 17H7v-7h2v7zm4 0h-2V7h2v10zm4 0h-2v-4h2v4z\"/>\n",
              "    </g>\n",
              "</svg>\n",
              "  </button>\n",
              "\n",
              "<style>\n",
              "  .colab-df-quickchart {\n",
              "      --bg-color: #E8F0FE;\n",
              "      --fill-color: #1967D2;\n",
              "      --hover-bg-color: #E2EBFA;\n",
              "      --hover-fill-color: #174EA6;\n",
              "      --disabled-fill-color: #AAA;\n",
              "      --disabled-bg-color: #DDD;\n",
              "  }\n",
              "\n",
              "  [theme=dark] .colab-df-quickchart {\n",
              "      --bg-color: #3B4455;\n",
              "      --fill-color: #D2E3FC;\n",
              "      --hover-bg-color: #434B5C;\n",
              "      --hover-fill-color: #FFFFFF;\n",
              "      --disabled-bg-color: #3B4455;\n",
              "      --disabled-fill-color: #666;\n",
              "  }\n",
              "\n",
              "  .colab-df-quickchart {\n",
              "    background-color: var(--bg-color);\n",
              "    border: none;\n",
              "    border-radius: 50%;\n",
              "    cursor: pointer;\n",
              "    display: none;\n",
              "    fill: var(--fill-color);\n",
              "    height: 32px;\n",
              "    padding: 0;\n",
              "    width: 32px;\n",
              "  }\n",
              "\n",
              "  .colab-df-quickchart:hover {\n",
              "    background-color: var(--hover-bg-color);\n",
              "    box-shadow: 0 1px 2px rgba(60, 64, 67, 0.3), 0 1px 3px 1px rgba(60, 64, 67, 0.15);\n",
              "    fill: var(--button-hover-fill-color);\n",
              "  }\n",
              "\n",
              "  .colab-df-quickchart-complete:disabled,\n",
              "  .colab-df-quickchart-complete:disabled:hover {\n",
              "    background-color: var(--disabled-bg-color);\n",
              "    fill: var(--disabled-fill-color);\n",
              "    box-shadow: none;\n",
              "  }\n",
              "\n",
              "  .colab-df-spinner {\n",
              "    border: 2px solid var(--fill-color);\n",
              "    border-color: transparent;\n",
              "    border-bottom-color: var(--fill-color);\n",
              "    animation:\n",
              "      spin 1s steps(1) infinite;\n",
              "  }\n",
              "\n",
              "  @keyframes spin {\n",
              "    0% {\n",
              "      border-color: transparent;\n",
              "      border-bottom-color: var(--fill-color);\n",
              "      border-left-color: var(--fill-color);\n",
              "    }\n",
              "    20% {\n",
              "      border-color: transparent;\n",
              "      border-left-color: var(--fill-color);\n",
              "      border-top-color: var(--fill-color);\n",
              "    }\n",
              "    30% {\n",
              "      border-color: transparent;\n",
              "      border-left-color: var(--fill-color);\n",
              "      border-top-color: var(--fill-color);\n",
              "      border-right-color: var(--fill-color);\n",
              "    }\n",
              "    40% {\n",
              "      border-color: transparent;\n",
              "      border-right-color: var(--fill-color);\n",
              "      border-top-color: var(--fill-color);\n",
              "    }\n",
              "    60% {\n",
              "      border-color: transparent;\n",
              "      border-right-color: var(--fill-color);\n",
              "    }\n",
              "    80% {\n",
              "      border-color: transparent;\n",
              "      border-right-color: var(--fill-color);\n",
              "      border-bottom-color: var(--fill-color);\n",
              "    }\n",
              "    90% {\n",
              "      border-color: transparent;\n",
              "      border-bottom-color: var(--fill-color);\n",
              "    }\n",
              "  }\n",
              "</style>\n",
              "\n",
              "  <script>\n",
              "    async function quickchart(key) {\n",
              "      const quickchartButtonEl =\n",
              "        document.querySelector('#' + key + ' button');\n",
              "      quickchartButtonEl.disabled = true;  // To prevent multiple clicks.\n",
              "      quickchartButtonEl.classList.add('colab-df-spinner');\n",
              "      try {\n",
              "        const charts = await google.colab.kernel.invokeFunction(\n",
              "            'suggestCharts', [key], {});\n",
              "      } catch (error) {\n",
              "        console.error('Error during call to suggestCharts:', error);\n",
              "      }\n",
              "      quickchartButtonEl.classList.remove('colab-df-spinner');\n",
              "      quickchartButtonEl.classList.add('colab-df-quickchart-complete');\n",
              "    }\n",
              "    (() => {\n",
              "      let quickchartButtonEl =\n",
              "        document.querySelector('#df-95cbbc84-b136-4681-919f-1842815e0c2c button');\n",
              "      quickchartButtonEl.style.display =\n",
              "        google.colab.kernel.accessAllowed ? 'block' : 'none';\n",
              "    })();\n",
              "  </script>\n",
              "</div>\n",
              "\n",
              "  <div id=\"id_24b47af5-e57c-4a6c-b5ac-41e68f1c0d3c\">\n",
              "    <style>\n",
              "      .colab-df-generate {\n",
              "        background-color: #E8F0FE;\n",
              "        border: none;\n",
              "        border-radius: 50%;\n",
              "        cursor: pointer;\n",
              "        display: none;\n",
              "        fill: #1967D2;\n",
              "        height: 32px;\n",
              "        padding: 0 0 0 0;\n",
              "        width: 32px;\n",
              "      }\n",
              "\n",
              "      .colab-df-generate:hover {\n",
              "        background-color: #E2EBFA;\n",
              "        box-shadow: 0px 1px 2px rgba(60, 64, 67, 0.3), 0px 1px 3px 1px rgba(60, 64, 67, 0.15);\n",
              "        fill: #174EA6;\n",
              "      }\n",
              "\n",
              "      [theme=dark] .colab-df-generate {\n",
              "        background-color: #3B4455;\n",
              "        fill: #D2E3FC;\n",
              "      }\n",
              "\n",
              "      [theme=dark] .colab-df-generate:hover {\n",
              "        background-color: #434B5C;\n",
              "        box-shadow: 0px 1px 3px 1px rgba(0, 0, 0, 0.15);\n",
              "        filter: drop-shadow(0px 1px 2px rgba(0, 0, 0, 0.3));\n",
              "        fill: #FFFFFF;\n",
              "      }\n",
              "    </style>\n",
              "    <button class=\"colab-df-generate\" onclick=\"generateWithVariable('df')\"\n",
              "            title=\"Generate code using this dataframe.\"\n",
              "            style=\"display:none;\">\n",
              "\n",
              "  <svg xmlns=\"http://www.w3.org/2000/svg\" height=\"24px\"viewBox=\"0 0 24 24\"\n",
              "       width=\"24px\">\n",
              "    <path d=\"M7,19H8.4L18.45,9,17,7.55,7,17.6ZM5,21V16.75L18.45,3.32a2,2,0,0,1,2.83,0l1.4,1.43a1.91,1.91,0,0,1,.58,1.4,1.91,1.91,0,0,1-.58,1.4L9.25,21ZM18.45,9,17,7.55Zm-12,3A5.31,5.31,0,0,0,4.9,8.1,5.31,5.31,0,0,0,1,6.5,5.31,5.31,0,0,0,4.9,4.9,5.31,5.31,0,0,0,6.5,1,5.31,5.31,0,0,0,8.1,4.9,5.31,5.31,0,0,0,12,6.5,5.46,5.46,0,0,0,6.5,12Z\"/>\n",
              "  </svg>\n",
              "    </button>\n",
              "    <script>\n",
              "      (() => {\n",
              "      const buttonEl =\n",
              "        document.querySelector('#id_24b47af5-e57c-4a6c-b5ac-41e68f1c0d3c button.colab-df-generate');\n",
              "      buttonEl.style.display =\n",
              "        google.colab.kernel.accessAllowed ? 'block' : 'none';\n",
              "\n",
              "      buttonEl.onclick = () => {\n",
              "        google.colab.notebook.generateWithVariable('df');\n",
              "      }\n",
              "      })();\n",
              "    </script>\n",
              "  </div>\n",
              "\n",
              "    </div>\n",
              "  </div>\n"
            ],
            "application/vnd.google.colaboratory.intrinsic+json": {
              "type": "dataframe",
              "variable_name": "df",
              "summary": "{\n  \"name\": \"df\",\n  \"rows\": 5000,\n  \"fields\": [\n    {\n      \"column\": \"Recipe_Name\",\n      \"properties\": {\n        \"dtype\": \"category\",\n        \"num_unique_values\": 5,\n        \"samples\": [\n          \"Spaghetti Bolognese\",\n          \"Margherita Pizza\",\n          \"Chicken Curry\"\n        ],\n        \"semantic_type\": \"\",\n        \"description\": \"\"\n      }\n    },\n    {\n      \"column\": \"Cuisine_Type\",\n      \"properties\": {\n        \"dtype\": \"category\",\n        \"num_unique_values\": 4,\n        \"samples\": [\n          \"Italian\",\n          \"Chinese\",\n          \"Mexican\"\n        ],\n        \"semantic_type\": \"\",\n        \"description\": \"\"\n      }\n    },\n    {\n      \"column\": \"Ingredients_List\",\n      \"properties\": {\n        \"dtype\": \"category\",\n        \"num_unique_values\": 5,\n        \"samples\": [\n          \"Spaghetti, Ground Beef, Tomato Sauce, Onion, Garlic\",\n          \"Pizza Dough, Tomato Sauce, Mozzarella, Basil, Olive Oil\",\n          \"Chicken, Curry Powder, Coconut Milk, Onion, Garlic\"\n        ],\n        \"semantic_type\": \"\",\n        \"description\": \"\"\n      }\n    },\n    {\n      \"column\": \"Preparation_Steps\",\n      \"properties\": {\n        \"dtype\": \"category\",\n        \"num_unique_values\": 5,\n        \"samples\": [\n          \"Boil pasta; Cook beef; Add sauce; Combine.\",\n          \"Prepare dough; Add toppings; Bake pizza.\",\n          \"Cook chicken; Add spices; Pour coconut milk; Simmer.\"\n        ],\n        \"semantic_type\": \"\",\n        \"description\": \"\"\n      }\n    },\n    {\n      \"column\": \"Difficulty_Level\",\n      \"properties\": {\n        \"dtype\": \"category\",\n        \"num_unique_values\": 3,\n        \"samples\": [\n          \"Medium\",\n          \"Easy\",\n          \"Hard\"\n        ],\n        \"semantic_type\": \"\",\n        \"description\": \"\"\n      }\n    },\n    {\n      \"column\": \"User_Preferences\",\n      \"properties\": {\n        \"dtype\": \"category\",\n        \"num_unique_values\": 4,\n        \"samples\": [\n          \"Gluten-Free\",\n          \"Vegetarian\",\n          \"None\"\n        ],\n        \"semantic_type\": \"\",\n        \"description\": \"\"\n      }\n    },\n    {\n      \"column\": \"Season\",\n      \"properties\": {\n        \"dtype\": \"category\",\n        \"num_unique_values\": 4,\n        \"samples\": [\n          \"Winter\",\n          \"Summer\",\n          \"Spring\"\n        ],\n        \"semantic_type\": \"\",\n        \"description\": \"\"\n      }\n    },\n    {\n      \"column\": \"Occasion\",\n      \"properties\": {\n        \"dtype\": \"category\",\n        \"num_unique_values\": 4,\n        \"samples\": [\n          \"Casual\",\n          \"Lunch\",\n          \"Party\"\n        ],\n        \"semantic_type\": \"\",\n        \"description\": \"\"\n      }\n    },\n    {\n      \"column\": \"Allergen_Information\",\n      \"properties\": {\n        \"dtype\": \"category\",\n        \"num_unique_values\": 4,\n        \"samples\": [\n          \"Gluten\",\n          \"Dairy\",\n          \"None\"\n        ],\n        \"semantic_type\": \"\",\n        \"description\": \"\"\n      }\n    },\n    {\n      \"column\": \"Seasonal_Availability\",\n      \"properties\": {\n        \"dtype\": \"category\",\n        \"num_unique_values\": 2,\n        \"samples\": [\n          \"Yes\",\n          \"No\"\n        ],\n        \"semantic_type\": \"\",\n        \"description\": \"\"\n      }\n    }\n  ]\n}"
            }
          },
          "metadata": {},
          "execution_count": 134
        }
      ]
    },
    {
      "cell_type": "markdown",
      "source": [
        "#***Save The CSV:-***"
      ],
      "metadata": {
        "id": "r_LYIRC3-oLE"
      }
    },
    {
      "cell_type": "code",
      "source": [
        "#save csv\n",
        "df.to_csv('Recipe_recommend_cleaned.csv',index=False)"
      ],
      "metadata": {
        "id": "XH-19cUW2O1A"
      },
      "execution_count": 136,
      "outputs": []
    },
    {
      "cell_type": "code",
      "source": [],
      "metadata": {
        "id": "jnDrn25w2O6G"
      },
      "execution_count": null,
      "outputs": []
    }
  ]
}